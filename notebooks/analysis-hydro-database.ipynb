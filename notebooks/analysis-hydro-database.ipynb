{
 "cells": [
  {
   "cell_type": "code",
   "execution_count": 5,
   "metadata": {},
   "outputs": [],
   "source": [
    "import pandas as pd\n",
    "import os "
   ]
  },
  {
   "cell_type": "code",
   "execution_count": 6,
   "metadata": {},
   "outputs": [
    {
     "name": "stdout",
     "output_type": "stream",
     "text": [
      "<class 'pandas.core.frame.DataFrame'>\n",
      "RangeIndex: 4264 entries, 0 to 4263\n",
      "Data columns (total 15 columns):\n",
      " #   Column                     Non-Null Count  Dtype  \n",
      "---  ------                     --------------  -----  \n",
      " 0   id                         4264 non-null   object \n",
      " 1   name                       4264 non-null   object \n",
      " 2   installed_capacity_MW      4264 non-null   float64\n",
      " 3   pumping_MW                 187 non-null    float64\n",
      " 4   type                       4264 non-null   object \n",
      " 5   country_code               4264 non-null   object \n",
      " 6   lat                        4264 non-null   float64\n",
      " 7   lon                        4264 non-null   float64\n",
      " 8   dam_height_m               1947 non-null   float64\n",
      " 9   volume_Mm3                 1259 non-null   float64\n",
      " 10  storage_capacity_MWh       871 non-null    float64\n",
      " 11  avg_annual_generation_GWh  1554 non-null   float64\n",
      " 12  pypsa_id                   1472 non-null   float64\n",
      " 13  GEO                        513 non-null    float64\n",
      " 14  WRI                        37 non-null     object \n",
      "dtypes: float64(10), object(5)\n",
      "memory usage: 499.8+ KB\n",
      "None\n",
      "      id                                               name  \\\n",
      "0     H1  Grande Dixence - Cleuson-Dixence (chandolin-fi...   \n",
      "1    H10                                  Chiotas entracque   \n",
      "2   H100        S.massenza - Vezzano molveno UP_S MASS CL_1   \n",
      "3  H1000  Lugo di nazza Lugo Di Nazza Hydroelectric Powe...   \n",
      "4  H1001                                          Pracomune   \n",
      "\n",
      "   installed_capacity_MW  pumping_MW  type country_code        lat        lon  \\\n",
      "0            2069.000000         NaN  HDAM           CH  46.073100   7.403400   \n",
      "1            1064.000000      1184.0  HPHS           IT  44.177576   7.416505   \n",
      "2             377.000000        55.0  HPHS           IT  46.067653  10.983605   \n",
      "3              38.503185         NaN  HDAM           FR  42.091000   9.316000   \n",
      "4              42.000000        35.6  HPHS           IT  46.547808  11.007077   \n",
      "\n",
      "   dam_height_m  volume_Mm3  storage_capacity_MWh  avg_annual_generation_GWh  \\\n",
      "0        1748.0      400.00             1764300.0                     1400.0   \n",
      "1         130.0       30.18               16860.0                        NaN   \n",
      "2         580.9       32.70               44800.0                        NaN   \n",
      "3           NaN         NaN                   NaN                        NaN   \n",
      "4         377.0         NaN                   NaN                        NaN   \n",
      "\n",
      "   pypsa_id      GEO         WRI  \n",
      "0       NaN  45218.0  WRI1004074  \n",
      "1     831.0  45432.0  WRI1002882  \n",
      "2     251.0      NaN         NaN  \n",
      "3    3125.0  39764.0         NaN  \n",
      "4    3234.0      NaN         NaN  \n"
     ]
    }
   ],
   "source": [
    "project_root = os.path.abspath(os.path.join(os.getcwd(), \"..\"))\n",
    "data_dir = os.path.join(project_root, \"data\") \n",
    "\n",
    "hydro_df = pd.read_csv(os.path.join(data_dir, \"jrc-hydro-power-plant-database.csv\"))\n",
    "\n",
    "# Display basic information\n",
    "print(hydro_df.info())  # Check column names and data types\n",
    "print(hydro_df.head())  # Preview first few row"
   ]
  },
  {
   "cell_type": "code",
   "execution_count": null,
   "metadata": {},
   "outputs": [],
   "source": []
  }
 ],
 "metadata": {
  "kernelspec": {
   "display_name": "Python 3",
   "language": "python",
   "name": "python3"
  },
  "language_info": {
   "codemirror_mode": {
    "name": "ipython",
    "version": 3
   },
   "file_extension": ".py",
   "mimetype": "text/x-python",
   "name": "python",
   "nbconvert_exporter": "python",
   "pygments_lexer": "ipython3",
   "version": "3.13.1"
  }
 },
 "nbformat": 4,
 "nbformat_minor": 2
}
